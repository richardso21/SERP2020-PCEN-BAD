{
 "cells": [
  {
   "cell_type": "code",
   "execution_count": 54,
   "metadata": {
    "ExecuteTime": {
     "end_time": "2019-10-28T22:25:26.519612Z",
     "start_time": "2019-10-28T22:25:26.515846Z"
    }
   },
   "outputs": [],
   "source": [
    "#pip install tqdm"
   ]
  },
  {
   "cell_type": "code",
   "execution_count": 1,
   "metadata": {
    "ExecuteTime": {
     "end_time": "2019-10-30T17:28:30.094238Z",
     "start_time": "2019-10-30T17:28:30.088810Z"
    }
   },
   "outputs": [],
   "source": [
    "import librosa, h5py, os, multiprocessing\n",
    "import librosa.display as display\n",
    "import numpy as np\n",
    "import IPython.display as ipd\n",
    "from tqdm import tqdm"
   ]
  },
  {
   "cell_type": "code",
   "execution_count": 18,
   "metadata": {},
   "outputs": [],
   "source": [
    "PCEN = False # True or False"
   ]
  },
  {
   "cell_type": "code",
   "execution_count": 19,
   "metadata": {
    "ExecuteTime": {
     "end_time": "2019-10-30T17:28:39.463029Z",
     "start_time": "2019-10-30T17:28:39.458804Z"
    }
   },
   "outputs": [],
   "source": [
    "base_dir = '/scratch/richardso21/DCASE_3_Models/grill_pcen'\n",
    "os.chdir(base_dir)"
   ]
  },
  {
   "cell_type": "markdown",
   "metadata": {},
   "source": [
    "---"
   ]
  },
  {
   "cell_type": "code",
   "execution_count": 20,
   "metadata": {
    "ExecuteTime": {
     "end_time": "2019-10-28T22:36:31.424739Z",
     "start_time": "2019-10-28T22:36:31.415983Z"
    }
   },
   "outputs": [],
   "source": [
    "def wav_to_h5(input_wav_dir):\n",
    "    a,sr = librosa.load(input_wav_dir)\n",
    "    \n",
    "    a_log = librosa.feature.melspectrogram(a,sr=sr,n_fft=1024,hop_length=315,n_mels=80,fmax=11000)\n",
    "    if PCEN == True:\n",
    "        a_out = librosa.pcen(a_log*(2**31))\n",
    "    elif PCEN == False:\n",
    "        a_out = librosa.power_to_db(a_log,ref=np.max)\n",
    "    \n",
    "    duration = librosa.get_duration(a)\n",
    "    frames = a_out.shape[1]\n",
    "    timeframe = np.linspace(0,duration,num=frames)\n",
    "    \n",
    "    dir_name = os.path.basename(os.path.dirname(input_wav_dir))\n",
    "    name = os.path.basename(input_wav_dir)\n",
    "    \n",
    "    with h5py.File('workingfiles/spect/{0}/{1}.h5'.format(dir_name,name), 'w') as data_file:\n",
    "        data_file.create_dataset('features',data=a_out.T,dtype='float32')\n",
    "        data_file.create_dataset('times',data=timeframe,dtype='float32')\n",
    "    #print('Done creating {0}'.format(name))"
   ]
  },
  {
   "cell_type": "code",
   "execution_count": null,
   "metadata": {
    "scrolled": true
   },
   "outputs": [],
   "source": [
    "for folder in os.listdir('audio'):\n",
    "    filelist_path = os.path.join('audio',folder)\n",
    "    filelist = sorted(os.listdir(filelist_path))\n",
    "    \n",
    "    try:\n",
    "        os.mkdir(os.path.join('workingfiles/spect',folder))\n",
    "    except OSError as error:\n",
    "        print(error)\n",
    "        \n",
    "    if __name__ == '__main__':        \n",
    "        for file in tqdm(filelist,desc=folder):\n",
    "            file_path = os.path.join('workingfiles/spect',folder,file)\n",
    "            \n",
    "            p = multiprocessing.Process(target=wav_to_h5,args=(os.path.join(filelist_path,file)))\n",
    "            p.start() #now uses multiple processors\n",
    "            \n",
    "            #wav_to_h5(os.path.join(filelist_path,file))"
   ]
  },
  {
   "cell_type": "code",
   "execution_count": null,
   "metadata": {},
   "outputs": [],
   "source": []
  }
 ],
 "metadata": {
  "kernelspec": {
   "display_name": "Python 3",
   "language": "python",
   "name": "python3"
  },
  "language_info": {
   "codemirror_mode": {
    "name": "ipython",
    "version": 3
   },
   "file_extension": ".py",
   "mimetype": "text/x-python",
   "name": "python",
   "nbconvert_exporter": "python",
   "pygments_lexer": "ipython3",
   "version": "3.5.6"
  },
  "varInspector": {
   "cols": {
    "lenName": 16,
    "lenType": 16,
    "lenVar": 40
   },
   "kernels_config": {
    "python": {
     "delete_cmd_postfix": "",
     "delete_cmd_prefix": "del ",
     "library": "var_list.py",
     "varRefreshCmd": "print(var_dic_list())"
    },
    "r": {
     "delete_cmd_postfix": ") ",
     "delete_cmd_prefix": "rm(",
     "library": "var_list.r",
     "varRefreshCmd": "cat(var_dic_list()) "
    }
   },
   "types_to_exclude": [
    "module",
    "function",
    "builtin_function_or_method",
    "instance",
    "_Feature"
   ],
   "window_display": false
  }
 },
 "nbformat": 4,
 "nbformat_minor": 4
}
