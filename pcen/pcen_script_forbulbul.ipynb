{
 "cells": [
  {
   "cell_type": "code",
   "execution_count": 54,
   "metadata": {
    "ExecuteTime": {
     "end_time": "2019-10-28T22:25:26.519612Z",
     "start_time": "2019-10-28T22:25:26.515846Z"
    }
   },
   "outputs": [],
   "source": [
    "#pip install tqdm"
   ]
  },
  {
   "cell_type": "code",
   "execution_count": 20,
   "metadata": {
    "ExecuteTime": {
     "end_time": "2019-10-30T17:28:30.094238Z",
     "start_time": "2019-10-30T17:28:30.088810Z"
    }
   },
   "outputs": [],
   "source": [
    "import librosa\n",
    "import h5py\n",
    "import librosa.display as display\n",
    "import numpy as np\n",
    "import os\n",
    "import IPython.display as ipd\n",
    "from tqdm import tqdm"
   ]
  },
  {
   "cell_type": "code",
   "execution_count": 35,
   "metadata": {},
   "outputs": [],
   "source": [
    "PCEN = True # True or False"
   ]
  },
  {
   "cell_type": "code",
   "execution_count": 22,
   "metadata": {
    "ExecuteTime": {
     "end_time": "2019-10-30T17:28:39.463029Z",
     "start_time": "2019-10-30T17:28:39.458804Z"
    }
   },
   "outputs": [],
   "source": [
    "base_dir = '/scratch/richardso21/DCASE_3_Models/grill_pcen'\n",
    "os.chdir(base_dir)"
   ]
  },
  {
   "cell_type": "code",
   "execution_count": 34,
   "metadata": {
    "ExecuteTime": {
     "end_time": "2019-10-28T22:36:31.424739Z",
     "start_time": "2019-10-28T22:36:31.415983Z"
    }
   },
   "outputs": [],
   "source": [
    "def wav_to_h5(input_wav_dir):\n",
    "    a,sr = librosa.load(input_wav_dir)\n",
    "    \n",
    "    a_log = librosa.feature.melspectrogram(a,sr=sr,n_fft=1024,hop_length=315,n_mels=80,fmax=11000)\n",
    "    if PCEN == True:\n",
    "        a_out = librosa.pcen(a_log*(2**31))\n",
    "    elif PCEN == False:\n",
    "        a_out = librosa.power_to_db(a_log,ref=np.max)\n",
    "    \n",
    "    duration = librosa.get_duration(a)\n",
    "    frames = a_out.shape[1]\n",
    "    timeframe = np.linspace(0,duration,num=frames)\n",
    "    \n",
    "    dir_name = os.path.basename(os.path.dirname(input_wav_dir))\n",
    "    name = os.path.basename(input_wav_dir)\n",
    "    \n",
    "    with h5py.File('workingfiles/spect/{0}/{1}.h5'.format(dir_name,name), 'w') as data_file:\n",
    "        data_file.create_dataset('features',data=a_out.T,dtype='float32')\n",
    "        data_file.create_dataset('times',data=timeframe,dtype='float32')\n",
    "    #print('Done creating {0}'.format(name))"
   ]
  },
  {
   "cell_type": "code",
   "execution_count": null,
   "metadata": {
    "scrolled": true
   },
   "outputs": [],
   "source": [
    "for folder in os.listdir('audio'):\n",
    "    filelist_path = os.path.join('audio',folder)\n",
    "    filelist = sorted(os.listdir(filelist_path))\n",
    "    \n",
    "    try:\n",
    "        os.mkdir(os.path.join('workingfiles/spect',folder))\n",
    "    except OSError as error:\n",
    "        print(error)\n",
    "        \n",
    "    for file in tqdm(filelist,desc=folder):\n",
    "        file_path = os.path.join('workingfiles/spect',folder,file)\n",
    "        exist_counter = 0\n",
    "        \n",
    "        if os.path.exists('{0}.h5'.format(file_path)) == False:\n",
    "            #wav_to_h5(f'{filelist_path}/{file}')\n",
    "            wav_to_h5(os.path.join(filelist_path,file))\n",
    "        else:\n",
    "            break"
   ]
  },
  {
   "cell_type": "code",
   "execution_count": 9,
   "metadata": {
    "ExecuteTime": {
     "end_time": "2019-10-28T22:36:34.082498Z",
     "start_time": "2019-10-28T22:36:34.063850Z"
    },
    "collapsed": true,
    "jupyter": {
     "outputs_hidden": true
    }
   },
   "outputs": [
    {
     "data": {
      "text/plain": [
       "\"master_list = []\\nfor folder in os.listdir('audio'):\\n    filelist = [sorted(i for i in os.listdir('audio/' + folder))]\\n    os.mkdir('workingfiles/spect/{0}'.format(folder))\\n    \\n    for file in tqdm(filelist,desc='{0}'.format(folder)):\\n        wav_to_h5('audio/{0}/{1}'.format(folder,file), folder, file)\\n    \\n    master_list.append(filelist) #FINAL\""
      ]
     },
     "execution_count": 9,
     "metadata": {},
     "output_type": "execute_result"
    }
   ],
   "source": [
    "'''#master_list = []\n",
    "for folder in os.listdir('audio'):\n",
    "    filelist = [sorted(os.listdir('audio/' + folder))]\n",
    "    \n",
    "    try:\n",
    "        os.mkdir('workingfiles/spect/{0}'.format(folder))\n",
    "    except OSError as error:\n",
    "        print(error)\n",
    "    \n",
    "    for file in tqdm(filelist,desc='{0}'.format(folder)):\n",
    "        wav_to_h5('audio/{0}/{1}'.format(folder,file), folder, file)\n",
    "    \n",
    "    #master_list.append(filelist) #FINAL'''"
   ]
  },
  {
   "cell_type": "code",
   "execution_count": 1,
   "metadata": {
    "ExecuteTime": {
     "end_time": "2019-10-29T22:48:46.339321Z",
     "start_time": "2019-10-29T22:48:46.294844Z"
    },
    "collapsed": true,
    "jupyter": {
     "outputs_hidden": true
    },
    "scrolled": true
   },
   "outputs": [
    {
     "data": {
      "text/plain": [
       "\"try:\\n    os.mkdir('workingfiles/spect')\\n    os.mkdir('workingfiles/spect/{0}'.format('testing'))\\nexcept OSError as error:\\n    print(error)\\n    \\nfolder = 'testing'\\nfor file in tqdm(os.listdir('audio/testing/'),desc='{0}'.format('testing')):\\n    wav_to_h5('audio/{0}/{1}'.format(folder,file),folder,file)\""
      ]
     },
     "execution_count": 1,
     "metadata": {},
     "output_type": "execute_result"
    }
   ],
   "source": [
    "'''try:\n",
    "    os.mkdir('workingfiles/spect')\n",
    "    os.mkdir('workingfiles/spect/{0}'.format('testing'))\n",
    "except OSError as error:\n",
    "    print(error)\n",
    "    \n",
    "folder = 'testing'\n",
    "for file in tqdm(os.listdir('audio/testing/'),desc='{0}'.format('testing')):\n",
    "    wav_to_h5('audio/{0}/{1}'.format(folder,file),folder,file)'''"
   ]
  }
 ],
 "metadata": {
  "kernelspec": {
   "display_name": "Python 3",
   "language": "python",
   "name": "python3"
  },
  "language_info": {
   "codemirror_mode": {
    "name": "ipython",
    "version": 3
   },
   "file_extension": ".py",
   "mimetype": "text/x-python",
   "name": "python",
   "nbconvert_exporter": "python",
   "pygments_lexer": "ipython3",
   "version": "3.5.6"
  },
  "varInspector": {
   "cols": {
    "lenName": 16,
    "lenType": 16,
    "lenVar": 40
   },
   "kernels_config": {
    "python": {
     "delete_cmd_postfix": "",
     "delete_cmd_prefix": "del ",
     "library": "var_list.py",
     "varRefreshCmd": "print(var_dic_list())"
    },
    "r": {
     "delete_cmd_postfix": ") ",
     "delete_cmd_prefix": "rm(",
     "library": "var_list.r",
     "varRefreshCmd": "cat(var_dic_list()) "
    }
   },
   "types_to_exclude": [
    "module",
    "function",
    "builtin_function_or_method",
    "instance",
    "_Feature"
   ],
   "window_display": false
  }
 },
 "nbformat": 4,
 "nbformat_minor": 4
}
