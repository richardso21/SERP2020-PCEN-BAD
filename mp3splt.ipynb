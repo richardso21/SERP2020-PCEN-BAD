{
 "cells": [
  {
   "cell_type": "code",
   "execution_count": 2,
   "metadata": {
    "ExecuteTime": {
     "end_time": "2019-09-07T18:46:15.312988Z",
     "start_time": "2019-09-07T18:46:15.309296Z"
    }
   },
   "outputs": [],
   "source": [
    "import os\n",
    "import subprocess"
   ]
  },
  {
   "cell_type": "code",
   "execution_count": 4,
   "metadata": {
    "ExecuteTime": {
     "end_time": "2019-09-07T18:46:28.099937Z",
     "start_time": "2019-09-07T18:46:28.092213Z"
    }
   },
   "outputs": [
    {
     "data": {
      "text/plain": [
       "['NIGLIQ2_20160623_173536.MP3',\n",
       " 'NIGLIQ2_20160625_191653.MP3',\n",
       " 'NIGLIQ2_20160627_205807.MP3',\n",
       " 'NIGLIQ2_20160629_223922.MP3',\n",
       " 'NIGLIQ2_20160702_002037.MP3',\n",
       " 'NIGLIQ2_20160704_020152.MP3',\n",
       " 'NIGLIQ2_20160706_034307.MP3',\n",
       " 'NIGLIQ2_20160708_052422.MP3',\n",
       " 'NIGLIQ2_20160710_070537.MP3',\n",
       " 'NIGLIQ2_20160712_084653.MP3',\n",
       " 'NIGLIQ2_20160714_102809.MP3',\n",
       " 'NIGLIQ2_20160716_120925.MP3',\n",
       " 'NIGLIQ2_20160718_135040.MP3',\n",
       " 'NIGLIQ2_20160720_153154.MP3',\n",
       " 'NIGLIQ2_20160722_171308.MP3']"
      ]
     },
     "execution_count": 4,
     "metadata": {},
     "output_type": "execute_result"
    }
   ],
   "source": [
    "files = [\n",
    "    i for i in os.listdir(\n",
    "        '/home/data/nna/stinchcomb/NUI_DATA/11 Nigliq 2/July 2016')\n",
    "    if 'NIGLIQ2' in i\n",
    "]\n",
    "files.sort()\n",
    "files"
   ]
  },
  {
   "cell_type": "code",
   "execution_count": 5,
   "metadata": {
    "ExecuteTime": {
     "end_time": "2019-09-07T18:46:38.625106Z",
     "start_time": "2019-09-07T18:46:38.619974Z"
    }
   },
   "outputs": [],
   "source": [
    "def mp3splt(mp3s,path):\n",
    "    #os.system('mp3splt -t 00.10 -d {0} /home/data/nna/stinchcomb/NUI_DATA/10\\ Nigliq\\ 1/June\\ 2016/{1}'.format(path,mp3s))\n",
    "    !mkdir {path}\n",
    "    !mp3splt -f -t 00.10 -d {path} {mp3s}\n",
    "    site = sorted(os.listdir(path))\n",
    "    #os.unlink(path + '/' + site[-1])\n",
    "    ###"
   ]
  },
  {
   "cell_type": "code",
   "execution_count": 10,
   "metadata": {
    "ExecuteTime": {
     "end_time": "2019-09-07T19:00:32.109812Z",
     "start_time": "2019-09-07T18:53:58.182229Z"
    }
   },
   "outputs": [],
   "source": [
    "%%capture\n",
    "for x in files:\n",
    "    mp3splt('/home/data/nna/stinchcomb/NUI_DATA/11\\ Nigliq\\ 2/July\\ 2016/{0}'.format(x),'/scratch/richardso21/mp3splt_files/all_nigliq2')"
   ]
  },
  {
   "cell_type": "code",
   "execution_count": 58,
   "metadata": {
    "ExecuteTime": {
     "end_time": "2019-08-27T15:21:07.072090Z",
     "start_time": "2019-08-27T15:20:52.411395Z"
    }
   },
   "outputs": [],
   "source": [
    "# got help from https://stackoverflow.com/questions/47746661/delete-every-n-th-file-python\n",
    "direct = '/scratch/richardso21/mp3splt_files/processed_nigliq'\n",
    "os.chdir(direct)\n",
    "\n",
    "l = sorted(os.listdir(direct))\n",
    "l15 = l[::360]\n",
    "\n",
    "for i in l:\n",
    "    if i in l15:\n",
    "        pass\n",
    "    else:\n",
    "        target = direct + '/' + i\n",
    "        if os.path.isfile(target):\n",
    "            os.unlink(target)"
   ]
  },
  {
   "cell_type": "code",
   "execution_count": null,
   "metadata": {
    "ExecuteTime": {
     "start_time": "2019-08-28T15:47:55.237Z"
    }
   },
   "outputs": [],
   "source": [
    "%%capture\n",
    "from pydub import AudioSegment\n",
    "direct = '/scratch/richardso21/mp3splt_files/all_nigliq2'\n",
    "os.chdir(direct)\n",
    "lshort = os.listdir(direct)\n",
    "lshort.sort()\n",
    "n = 0\n",
    "for i in lshort:\n",
    "    load = AudioSegment.from_mp3(i)\n",
    "    load = load.set_channels(1)\n",
    "    wav = i[:-3] + 'wav'\n",
    "    load.export(wav, format = 'wav')\n",
    "    target = direct + '/' + i\n",
    "    if os.path.isfile(target):\n",
    "        os.unlink(target)\n",
    "    n += 1\n",
    "    print((n/len(lshort)),'% done')\n",
    "#!cd {direct};rm *.mp3"
   ]
  },
  {
   "cell_type": "code",
   "execution_count": null,
   "metadata": {},
   "outputs": [],
   "source": []
  }
 ],
 "metadata": {
  "kernelspec": {
   "display_name": "Python 3",
   "language": "python",
   "name": "python3"
  },
  "language_info": {
   "codemirror_mode": {
    "name": "ipython",
    "version": 3
   },
   "file_extension": ".py",
   "mimetype": "text/x-python",
   "name": "python",
   "nbconvert_exporter": "python",
   "pygments_lexer": "ipython3",
   "version": "3.7.6"
  },
  "varInspector": {
   "cols": {
    "lenName": 16,
    "lenType": 16,
    "lenVar": 40
   },
   "kernels_config": {
    "python": {
     "delete_cmd_postfix": "",
     "delete_cmd_prefix": "del ",
     "library": "var_list.py",
     "varRefreshCmd": "print(var_dic_list())"
    },
    "r": {
     "delete_cmd_postfix": ") ",
     "delete_cmd_prefix": "rm(",
     "library": "var_list.r",
     "varRefreshCmd": "cat(var_dic_list()) "
    }
   },
   "position": {
    "height": "407.667px",
    "left": "658px",
    "right": "20px",
    "top": "106px",
    "width": "652.667px"
   },
   "types_to_exclude": [
    "module",
    "function",
    "builtin_function_or_method",
    "instance",
    "_Feature"
   ],
   "window_display": false
  }
 },
 "nbformat": 4,
 "nbformat_minor": 4
}
